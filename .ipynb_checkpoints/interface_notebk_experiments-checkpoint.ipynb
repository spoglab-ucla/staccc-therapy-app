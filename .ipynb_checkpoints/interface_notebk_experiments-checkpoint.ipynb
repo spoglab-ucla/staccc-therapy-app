{
 "cells": [
  {
   "cell_type": "code",
   "execution_count": 2,
   "id": "3bc280bb",
   "metadata": {},
   "outputs": [],
   "source": [
    "import pandas as pd\n",
    "import numpy as np\n",
    "import scipy.io as sc\n",
    "from scipy.io import wavfile\n",
    "import tkinter as tk\n",
    "from tkinter import *\n",
    "from tkinter import ttk as ttk"
   ]
  },
  {
   "cell_type": "code",
   "execution_count": 2,
   "id": "11b2c5b1",
   "metadata": {},
   "outputs": [],
   "source": [
    "from tkinter import *\n",
    "\n",
    "master = Tk()\n",
    "Label(master, text=\"First Name\").grid(row=0)\n",
    "Label(master, text=\"Last Name\").grid(row=1)\n",
    "\n",
    "e1 = Entry(master)\n",
    "e2 = Entry(master)\n",
    "\n",
    "e1.grid(row=0, column=1)\n",
    "e2.grid(row=1, column=1)\n",
    "\n",
    "mainloop()"
   ]
  },
  {
   "cell_type": "code",
   "execution_count": 10,
   "id": "36973339",
   "metadata": {},
   "outputs": [],
   "source": [
    "def say_name(name):\n",
    "    print(name)"
   ]
  },
  {
   "cell_type": "code",
   "execution_count": 2,
   "id": "a86aba93",
   "metadata": {},
   "outputs": [],
   "source": [
    "# initialize tkinter\n",
    "\n",
    "window = tk.Tk()\n",
    "\n",
    "# set window title\n",
    "window.wm_title(\"Tkinter window\")\n",
    "greeting = tk.Label(\n",
    "    text=\"Hello, Tkinter\",\n",
    "    foreground=\"green\",  # Set the text color to white\n",
    "    background=\"white\"  # Set the background color to black\n",
    ")\n",
    "greeting.pack()\n",
    "\n",
    "label = tk.Label(text=\"Name\").pack()\n",
    "entry = tk.Entry()\n",
    "entry.pack()\n",
    "name = entry.get()\n",
    "but1 = tk.Button(master = window, text=\"Done\") \n",
    " \n",
    "# show window until button is pressed\n",
    "mainloop()"
   ]
  },
  {
   "cell_type": "code",
   "execution_count": 8,
   "id": "5eb0410a",
   "metadata": {},
   "outputs": [
    {
     "name": "stdout",
     "output_type": "stream",
     "text": [
      "\n"
     ]
    }
   ],
   "source": [
    "def quitme():\n",
    "    master.withdraw()\n",
    "    master.quit()\n",
    "    \n",
    "def quitme2():\n",
    "    entries.withdraw()\n",
    "    entries.quit() \n",
    "    \n",
    "valuegot=\"6\"   \n",
    "\n",
    "def show_entry_fields():\n",
    "    entries = tk.Toplevel(master)\n",
    "    entries.title(\"Secondary Window\")\n",
    "    l1 = tk.Label(entries, text=\"First Name \"+e1.get())\n",
    "    l1.grid(row=0)\n",
    "    l2 = tk.Label(entries,text=\"Last Name \"+e2.get())\n",
    "    l2.grid(row=1)\n",
    "    l3 = tk.Label(entries,text=\"Number you chose: \" + combo.get())\n",
    "    l3.grid(row=2) \n",
    "    button_close = ttk.Button(entries, text = \"Close window\", command=quitme2)\n",
    "    l3.grid(row=3) \n",
    "    \n",
    "master = tk.Tk()\n",
    "l11 = tk.Label(master, text=\"First Name\")\n",
    "l11.grid(row=0)\n",
    "\n",
    "l12 = tk.Label(master, text=\"Last Name\")\n",
    "l12.grid(row=1)\n",
    "\n",
    "e1 = tk.Entry(master)\n",
    "e1.grid(row=0, column=1)\n",
    "\n",
    "e2 = tk.Entry(master)\n",
    "e2.grid(row=1, column=1)\n",
    "\n",
    "\n",
    "b1 = tk.Button(master, text='Quit', command= quitme)\n",
    "b1.grid(row=3, column=0, sticky=tk.W, pady=4)\n",
    "\n",
    "\n",
    "global valuegot \n",
    "\n",
    "combo = ttk.Combobox(master,state=\"readonly\", values=[\"1\", \"2\", \"3\", \"4\"])\n",
    "combo.grid(row=4)\n",
    "valuegot = combo.get()\n",
    "print(valuegot)\n",
    "\n",
    "b2 = tk.Button(master, text='Show', command=show_entry_fields)\n",
    "b2.grid(row=3, column=1, sticky=tk.W,pady=4)\n",
    "\n",
    "tk.mainloop()\n",
    "\n"
   ]
  },
  {
   "cell_type": "code",
   "execution_count": null,
   "id": "9eaccabe",
   "metadata": {},
   "outputs": [],
   "source": []
  },
  {
   "cell_type": "code",
   "execution_count": null,
   "id": "c04d2934",
   "metadata": {},
   "outputs": [],
   "source": []
  }
 ],
 "metadata": {
  "kernelspec": {
   "display_name": "Python 3 (ipykernel)",
   "language": "python",
   "name": "python3"
  },
  "language_info": {
   "codemirror_mode": {
    "name": "ipython",
    "version": 3
   },
   "file_extension": ".py",
   "mimetype": "text/x-python",
   "name": "python",
   "nbconvert_exporter": "python",
   "pygments_lexer": "ipython3",
   "version": "3.9.7"
  }
 },
 "nbformat": 4,
 "nbformat_minor": 5
}
