{
 "cells": [
  {
   "cell_type": "code",
   "execution_count": 2,
   "id": "3bc280bb",
   "metadata": {},
   "outputs": [],
   "source": [
    "import pandas as pd\n",
    "import numpy as np\n",
    "import scipy.io as sc\n",
    "from scipy.io import wavfile\n",
    "import tkinter as tk\n",
    "from tkinter import *\n",
    "from tkinter import ttk as ttk\n",
    "from tkinter import filedialog as fd\n",
    "from tkinter.messagebox import showinfo\n",
    "import os as os\n",
    "from pydub import AudioSegment\n",
    "from pydub.playback import play\n",
    "import subprocess\n",
    "import math\n",
    "\n",
    "# Dependency - QuickTimePlayer on mac\n",
    "# REMINDERS - change all paths and specific variables ; change try catch pattern of default players \n",
    "\n",
    "# GLOBAL VARIABLES\n",
    "ctc_timestamps_main = None\n",
    "childid = None\n",
    "sorted_ctccount = None"
   ]
  },
  {
   "cell_type": "code",
   "execution_count": 26,
   "id": "74cf2567",
   "metadata": {},
   "outputs": [
    {
     "name": "stdout",
     "output_type": "stream",
     "text": [
      "Found existing installation: pyobjc 10.0\r\n",
      "Uninstalling pyobjc-10.0:\r\n",
      "  Successfully uninstalled pyobjc-10.0\r\n"
     ]
    }
   ],
   "source": [
    "#!pip install playsound\n",
    "# !pip3 uninstall PyObjC -y\n",
    "\n",
    "\n"
   ]
  },
  {
   "cell_type": "code",
   "execution_count": 25,
   "id": "ceef6611",
   "metadata": {},
   "outputs": [
    {
     "name": "stdout",
     "output_type": "stream",
     "text": [
      "Collecting pydub\n",
      "  Downloading pydub-0.25.1-py2.py3-none-any.whl (32 kB)\n",
      "Installing collected packages: pydub\n",
      "Successfully installed pydub-0.25.1\n"
     ]
    }
   ],
   "source": [
    "# !pip install pydub\n",
    "\n",
    "\n"
   ]
  },
  {
   "cell_type": "code",
   "execution_count": 2,
   "id": "5eb0410a",
   "metadata": {},
   "outputs": [
    {
     "name": "stdout",
     "output_type": "stream",
     "text": [
      "\n"
     ]
    }
   ],
   "source": [
    "def quitme():\n",
    "    master.withdraw()\n",
    "    master.destroy()\n",
    "    \n",
    "def show_entry_fields():\n",
    "    entries = tk.Toplevel(master)\n",
    "    entries.title(\"Secondary Window\")\n",
    "    l1 = tk.Label(entries, text=\"First Name =  \"+e1.get())\n",
    "    l1.grid(row=0)\n",
    "    l2 = tk.Label(entries,text=\"Last Name = \"+e2.get())\n",
    "    l2.grid(row=1)\n",
    "    l3 = tk.Label(entries,text=\"Number you chose: =  \" + combo.get())\n",
    "    l3.grid(row=2, column=0) \n",
    "    button_close = ttk.Button(entries, text = \"Close\", command = lambda: [entries.withdraw(), entries.destroy()])\n",
    "    button_close.grid(row=2,column=1)\n",
    "\n",
    "valuegot=\"0\"    \n",
    "master = tk.Tk()\n",
    "l11 = tk.Label(master, text=\"First Name\")\n",
    "l11.grid(row=0)\n",
    "\n",
    "l12 = tk.Label(master, text=\"Last Name\")\n",
    "l12.grid(row=1)\n",
    "\n",
    "e1 = tk.Entry(master)\n",
    "e1.grid(row=0, column=1)\n",
    "\n",
    "e2 = tk.Entry(master)\n",
    "e2.grid(row=1, column=1)\n",
    "\n",
    "\n",
    "b1 = tk.Button(master, text='Quit', command= quitme)\n",
    "b1.grid(row=3, column=2, sticky=tk.W, pady=4)\n",
    "\n",
    "\n",
    "global valuegot \n",
    "\n",
    "combo = ttk.Combobox(master,state=\"readonly\", values=[\"1\", \"2\", \"3\", \"4\"])\n",
    "combo.grid(row=4, column=1)\n",
    "valuegot = combo.get()\n",
    "print(valuegot)\n",
    "\n",
    "b2 = tk.Button(master, text='Show', command=show_entry_fields)\n",
    "b2.grid(row=3, column=1, sticky=tk.W,pady=4)\n",
    "\n",
    "tk.mainloop()"
   ]
  },
  {
   "cell_type": "code",
   "execution_count": null,
   "id": "4da59fc5",
   "metadata": {},
   "outputs": [],
   "source": []
  },
  {
   "cell_type": "code",
   "execution_count": 5,
   "id": "9eaccabe",
   "metadata": {},
   "outputs": [],
   "source": [
    "def select_file():\n",
    "    wantfiletypes = [ ('CSV files', '*.csv') ]\n",
    "    filepath = fd.askopenfilename( title='Open a file', initialdir='/', filetypes = wantfiletypes)\n",
    "    nameofcsv = os.path.basename(filepath)\n",
    "    underscore = nameofcsv.find('_')\n",
    "    global childid \n",
    "    childid = nameofcsv[:underscore]\n",
    "    message = \"You are now viewing child ID: \" + childid + \"!\"\n",
    "    showinfo(title='Selected File', message = message)\n",
    "    \n",
    "    global ctc_timestamps_main \n",
    "    ctc_timestamps_main= pd.read_csv(filepath)\n",
    "    \n",
    "    if ctc_timestamps_main['segment_type'][0]!='CTC':\n",
    "        print(\"You have chosen the wrong file. Please close the window and try again.\")\n",
    "    \n",
    "    \n",
    "def prepare_CTCclips():\n",
    "    '''\n",
    "    This function prepares a dataframe with clips arrranged in descending order of CTC count\n",
    "    '''\n",
    "    global sorted_ctccount\n",
    "    sorted_ctccount = ctc_timestamps_main.sort_values(by=['convo_count'], ascending=0, ignore_index = 1) \n",
    "    \n",
    "    \n",
    "    \n",
    "def extract_clips_longCTC ():\n",
    "    '''\n",
    "    This function extracts and saves the clip with the longest CT measured by convo count, not duration.\n",
    "    '''\n",
    "    directory = \"/Users/arjun/Box/box-group-lena-studies/Soundscape/wavFiles\"\n",
    "    path = os.path.join(directory, childid+\".wav\")\n",
    "    rate, data = wavfile.read(path)\n",
    "    prepare_CTCclips()\n",
    "    upperbound = 15\n",
    "    \n",
    "    if (15>=len(sorted_ctccount)):\n",
    "        upperbound = len(sorted_ctccount)\n",
    "        \n",
    "    for i in range(0 , upperbound):\n",
    "        start, ending = sorted_ctccount.at[i,'clip_onset'] , sorted_ctccount.at[i,'clip_offset']\n",
    "        split_at_frame = math.floor(rate * start)\n",
    "        stop_at_frame = math.ceil(rate * ending)\n",
    "        left_data  = data[split_at_frame : stop_at_frame] \n",
    "        # TODO : change this file path for outputs\n",
    "        newpath = os.path.join(\"/Users/arjun/Box/box-group-lena-studies/Soundscape/wavFiles/sample_expt_arjun\" , childid+ \"_longCTC\"+str(i)+\".wav\")\n",
    "        wavfile.write(newpath, rate, left_data)\n",
    "\n",
    "    showinfo(title='Status Update', message = \"File extraction process complete.\")\n",
    "    \n",
    "    # idea : dropdown for all available options to play audio -- do this\n",
    "    \n",
    "\n",
    "def play_longest_CTC():\n",
    "    '''\n",
    "    This function plays the clip with the longest CT measured by convo count which has been extracted\n",
    "    '''    \n",
    "    filetoplay = os.path.join(\"/Users/arjun/Box/box-group-lena-studies/Soundscape/wavFiles/sample_expt_arjun\" , childid+ \"_longCTC0.wav\") \n",
    "    subprocess.check_call(['open', '-a', 'Quicktime Player', filetoplay])\n",
    "    \n",
    "    \n",
    "def play_other_long_CTC():\n",
    "    '''\n",
    "    This function plays another clip with a long CT measured by convo count which has been extracted\n",
    "    '''    \n",
    "    filetoplay = os.path.join(\"/Users/arjun/Box/box-group-lena-studies/Soundscape/wavFiles/sample_expt_arjun\" , childid+ \"_longestCTC.wav\") \n",
    "    subprocess.check_call(['open', '-a', 'Quicktime Player', filetoplay])\n",
    "    \n",
    "    \n",
    "master = tk.Tk()\n",
    "open_button = ttk.Button(master, text='Select CSV file of CTC timestamps', command=select_file)\n",
    "open_button.grid(row=0)\n",
    "\n",
    "longest_CTC_button = ttk.Button(master, text='Extract CTC clips', command=extract_clips_longCTC)\n",
    "longest_CTC_button.grid(row=1)\n",
    "\n",
    "play_longest_CTC_button = ttk.Button(master, text='Play longest CTC', command=play_longest_CTC)\n",
    "play_longest_CTC_button.grid(row=2)\n",
    "\n",
    "tk.mainloop()  "
   ]
  },
  {
   "cell_type": "markdown",
   "id": "9a578281",
   "metadata": {},
   "source": [
    "Questions:\n",
    "1. what is real time vs not?\n",
    "2. should extract button be replaced by just play?\n",
    "3. should preparation script be different? and actual interface just for playing things?\n",
    "4. box path location?\n",
    "5. error if play before extract? preprocess before."
   ]
  },
  {
   "cell_type": "markdown",
   "id": "9c6b21a6",
   "metadata": {},
   "source": [
    "Notes:\n",
    "1. keeping box directory manual for now\n",
    "2. keeping extract and play as separate buttons\n",
    "3. design choice - integer values so floor and ceil\n",
    "4. debugging - file types, filepaths, integration\n",
    "5. play audio platform"
   ]
  },
  {
   "cell_type": "markdown",
   "id": "bfe7676c",
   "metadata": {},
   "source": [
    "Notes from meeting:\n",
    "    1. have another play button that randomizes from top 20 longest CTC and that's the \"play another one button\" - random without replacement\n",
    "    2. create output directory on our own\n",
    "    3. extraction in separate script that is the pre-therapy script which populates the output directory\n",
    "    4. error handling for play button not found -- very clear\n",
    "    \n",
    "    \n",
    "    "
   ]
  },
  {
   "cell_type": "code",
   "execution_count": 1,
   "id": "948595a8",
   "metadata": {},
   "outputs": [
    {
     "ename": "NameError",
     "evalue": "name 'sorted_ctccount' is not defined",
     "output_type": "error",
     "traceback": [
      "\u001b[0;31m---------------------------------------------------------------------------\u001b[0m",
      "\u001b[0;31mNameError\u001b[0m                                 Traceback (most recent call last)",
      "\u001b[0;32m/var/folders/jt/dpcpyp4n5mggjjbh2lylsglh0000gn/T/ipykernel_43233/2654141299.py\u001b[0m in \u001b[0;36m<module>\u001b[0;34m\u001b[0m\n\u001b[0;32m----> 1\u001b[0;31m \u001b[0msorted_ctccount\u001b[0m\u001b[0;34m\u001b[0m\u001b[0;34m\u001b[0m\u001b[0m\n\u001b[0m",
      "\u001b[0;31mNameError\u001b[0m: name 'sorted_ctccount' is not defined"
     ]
    }
   ],
   "source": [
    "sorted_ctccount"
   ]
  },
  {
   "cell_type": "code",
   "execution_count": null,
   "id": "8d5d95ec",
   "metadata": {},
   "outputs": [],
   "source": []
  }
 ],
 "metadata": {
  "kernelspec": {
   "display_name": "Python 3 (ipykernel)",
   "language": "python",
   "name": "python3"
  },
  "language_info": {
   "codemirror_mode": {
    "name": "ipython",
    "version": 3
   },
   "file_extension": ".py",
   "mimetype": "text/x-python",
   "name": "python",
   "nbconvert_exporter": "python",
   "pygments_lexer": "ipython3",
   "version": "3.9.7"
  }
 },
 "nbformat": 4,
 "nbformat_minor": 5
}
