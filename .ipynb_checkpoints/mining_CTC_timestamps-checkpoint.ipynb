{
 "cells": [
  {
   "cell_type": "code",
   "execution_count": 1,
   "id": "6aa5a7db",
   "metadata": {},
   "outputs": [],
   "source": [
    "import pandas as pd\n",
    "import numpy as np\n",
    "import scipy.io as sc\n",
    "from scipy.io import wavfile"
   ]
  },
  {
   "cell_type": "code",
   "execution_count": 2,
   "id": "0aff4798",
   "metadata": {},
   "outputs": [],
   "source": [
    "ctcstamps = pd.read_csv(\"/Users/arjun/Box/box-group-lena-studies/Soundscape/wavFiles/001LTP1_ctc_output/001LTP1_CTC_timestamps.csv\")"
   ]
  },
  {
   "cell_type": "code",
   "execution_count": 3,
   "id": "af9c5eaa",
   "metadata": {},
   "outputs": [
    {
     "data": {
      "text/plain": [
       "Index(['Unnamed: 0', 'clip_onset', 'clip_offset', 'convo_count', 'avg_dB',\n",
       "       'peak_dB', 'duration', 'segment_type', 'seconds', 'child_id'],\n",
       "      dtype='object')"
      ]
     },
     "execution_count": 3,
     "metadata": {},
     "output_type": "execute_result"
    }
   ],
   "source": [
    "ctcstamps.columns"
   ]
  },
  {
   "cell_type": "code",
   "execution_count": 4,
   "id": "fbcffb98",
   "metadata": {},
   "outputs": [],
   "source": [
    "ctcstamps = ctcstamps[['clip_onset', 'clip_offset', 'convo_count', 'avg_dB',\n",
    "       'peak_dB', 'duration', 'segment_type', 'seconds', 'child_id']]"
   ]
  },
  {
   "cell_type": "code",
   "execution_count": 5,
   "id": "fa82bbe3",
   "metadata": {},
   "outputs": [
    {
     "data": {
      "text/html": [
       "<div>\n",
       "<style scoped>\n",
       "    .dataframe tbody tr th:only-of-type {\n",
       "        vertical-align: middle;\n",
       "    }\n",
       "\n",
       "    .dataframe tbody tr th {\n",
       "        vertical-align: top;\n",
       "    }\n",
       "\n",
       "    .dataframe thead th {\n",
       "        text-align: right;\n",
       "    }\n",
       "</style>\n",
       "<table border=\"1\" class=\"dataframe\">\n",
       "  <thead>\n",
       "    <tr style=\"text-align: right;\">\n",
       "      <th></th>\n",
       "      <th>clip_onset</th>\n",
       "      <th>clip_offset</th>\n",
       "      <th>convo_count</th>\n",
       "      <th>avg_dB</th>\n",
       "      <th>peak_dB</th>\n",
       "      <th>duration</th>\n",
       "      <th>segment_type</th>\n",
       "      <th>seconds</th>\n",
       "      <th>child_id</th>\n",
       "    </tr>\n",
       "  </thead>\n",
       "  <tbody>\n",
       "    <tr>\n",
       "      <th>0</th>\n",
       "      <td>21.27</td>\n",
       "      <td>76.53</td>\n",
       "      <td>1</td>\n",
       "      <td>-19.16</td>\n",
       "      <td>-4.95</td>\n",
       "      <td>55.26</td>\n",
       "      <td>CTC</td>\n",
       "      <td>120.0</td>\n",
       "      <td>001LTP1</td>\n",
       "    </tr>\n",
       "    <tr>\n",
       "      <th>1</th>\n",
       "      <td>138.29</td>\n",
       "      <td>170.12</td>\n",
       "      <td>2</td>\n",
       "      <td>-15.66</td>\n",
       "      <td>-3.15</td>\n",
       "      <td>31.83</td>\n",
       "      <td>CTC</td>\n",
       "      <td>180.0</td>\n",
       "      <td>001LTP1</td>\n",
       "    </tr>\n",
       "    <tr>\n",
       "      <th>2</th>\n",
       "      <td>180.15</td>\n",
       "      <td>206.15</td>\n",
       "      <td>2</td>\n",
       "      <td>-15.81</td>\n",
       "      <td>-3.38</td>\n",
       "      <td>26.00</td>\n",
       "      <td>CTC</td>\n",
       "      <td>240.0</td>\n",
       "      <td>001LTP1</td>\n",
       "    </tr>\n",
       "    <tr>\n",
       "      <th>3</th>\n",
       "      <td>232.85</td>\n",
       "      <td>236.69</td>\n",
       "      <td>1</td>\n",
       "      <td>-10.02</td>\n",
       "      <td>-4.13</td>\n",
       "      <td>3.84</td>\n",
       "      <td>CTC</td>\n",
       "      <td>240.0</td>\n",
       "      <td>001LTP1</td>\n",
       "    </tr>\n",
       "    <tr>\n",
       "      <th>4</th>\n",
       "      <td>290.46</td>\n",
       "      <td>296.86</td>\n",
       "      <td>1</td>\n",
       "      <td>-13.88</td>\n",
       "      <td>-2.84</td>\n",
       "      <td>6.40</td>\n",
       "      <td>CTC</td>\n",
       "      <td>300.0</td>\n",
       "      <td>001LTP1</td>\n",
       "    </tr>\n",
       "    <tr>\n",
       "      <th>...</th>\n",
       "      <td>...</td>\n",
       "      <td>...</td>\n",
       "      <td>...</td>\n",
       "      <td>...</td>\n",
       "      <td>...</td>\n",
       "      <td>...</td>\n",
       "      <td>...</td>\n",
       "      <td>...</td>\n",
       "      <td>...</td>\n",
       "    </tr>\n",
       "    <tr>\n",
       "      <th>345</th>\n",
       "      <td>45729.25</td>\n",
       "      <td>45751.89</td>\n",
       "      <td>1</td>\n",
       "      <td>-19.01</td>\n",
       "      <td>-6.29</td>\n",
       "      <td>22.64</td>\n",
       "      <td>CTC</td>\n",
       "      <td>45780.0</td>\n",
       "      <td>001LTP1</td>\n",
       "    </tr>\n",
       "    <tr>\n",
       "      <th>346</th>\n",
       "      <td>45866.48</td>\n",
       "      <td>45875.65</td>\n",
       "      <td>1</td>\n",
       "      <td>-21.55</td>\n",
       "      <td>-7.82</td>\n",
       "      <td>9.17</td>\n",
       "      <td>CTC</td>\n",
       "      <td>45900.0</td>\n",
       "      <td>001LTP1</td>\n",
       "    </tr>\n",
       "    <tr>\n",
       "      <th>347</th>\n",
       "      <td>46458.28</td>\n",
       "      <td>46479.16</td>\n",
       "      <td>1</td>\n",
       "      <td>-35.20</td>\n",
       "      <td>-18.64</td>\n",
       "      <td>20.88</td>\n",
       "      <td>CTC</td>\n",
       "      <td>46500.0</td>\n",
       "      <td>001LTP1</td>\n",
       "    </tr>\n",
       "    <tr>\n",
       "      <th>348</th>\n",
       "      <td>46556.73</td>\n",
       "      <td>46590.29</td>\n",
       "      <td>1</td>\n",
       "      <td>-26.54</td>\n",
       "      <td>-7.16</td>\n",
       "      <td>33.56</td>\n",
       "      <td>CTC</td>\n",
       "      <td>46620.0</td>\n",
       "      <td>001LTP1</td>\n",
       "    </tr>\n",
       "    <tr>\n",
       "      <th>349</th>\n",
       "      <td>46595.91</td>\n",
       "      <td>46667.82</td>\n",
       "      <td>1</td>\n",
       "      <td>-30.93</td>\n",
       "      <td>-14.41</td>\n",
       "      <td>71.91</td>\n",
       "      <td>CTC</td>\n",
       "      <td>46680.0</td>\n",
       "      <td>001LTP1</td>\n",
       "    </tr>\n",
       "  </tbody>\n",
       "</table>\n",
       "<p>350 rows × 9 columns</p>\n",
       "</div>"
      ],
      "text/plain": [
       "     clip_onset  clip_offset  convo_count  avg_dB  peak_dB  duration  \\\n",
       "0         21.27        76.53            1  -19.16    -4.95     55.26   \n",
       "1        138.29       170.12            2  -15.66    -3.15     31.83   \n",
       "2        180.15       206.15            2  -15.81    -3.38     26.00   \n",
       "3        232.85       236.69            1  -10.02    -4.13      3.84   \n",
       "4        290.46       296.86            1  -13.88    -2.84      6.40   \n",
       "..          ...          ...          ...     ...      ...       ...   \n",
       "345    45729.25     45751.89            1  -19.01    -6.29     22.64   \n",
       "346    45866.48     45875.65            1  -21.55    -7.82      9.17   \n",
       "347    46458.28     46479.16            1  -35.20   -18.64     20.88   \n",
       "348    46556.73     46590.29            1  -26.54    -7.16     33.56   \n",
       "349    46595.91     46667.82            1  -30.93   -14.41     71.91   \n",
       "\n",
       "    segment_type  seconds child_id  \n",
       "0            CTC    120.0  001LTP1  \n",
       "1            CTC    180.0  001LTP1  \n",
       "2            CTC    240.0  001LTP1  \n",
       "3            CTC    240.0  001LTP1  \n",
       "4            CTC    300.0  001LTP1  \n",
       "..           ...      ...      ...  \n",
       "345          CTC  45780.0  001LTP1  \n",
       "346          CTC  45900.0  001LTP1  \n",
       "347          CTC  46500.0  001LTP1  \n",
       "348          CTC  46620.0  001LTP1  \n",
       "349          CTC  46680.0  001LTP1  \n",
       "\n",
       "[350 rows x 9 columns]"
      ]
     },
     "execution_count": 5,
     "metadata": {},
     "output_type": "execute_result"
    }
   ],
   "source": [
    "ctcstamps"
   ]
  },
  {
   "cell_type": "markdown",
   "id": "d4970592",
   "metadata": {},
   "source": [
    "##  Questions:\n",
    "1. What is convo_count? No. of convo turns?\n",
    "2. Is duration for the whole segment? So to find longest conversational turn do we need to divide by count?\n",
    "OR does it mean that the duration is for the whole segment and count is number of \"dialogues\" of sorts?\n",
    "3. What to do with other CSVs on FAN/MAN/etc\n"
   ]
  },
  {
   "cell_type": "code",
   "execution_count": 6,
   "id": "62489c06",
   "metadata": {},
   "outputs": [
    {
     "data": {
      "text/plain": [
       "72"
      ]
     },
     "execution_count": 6,
     "metadata": {},
     "output_type": "execute_result"
    }
   ],
   "source": [
    "ctcstamps['duration'].idxmax()"
   ]
  },
  {
   "cell_type": "code",
   "execution_count": 7,
   "id": "ef1c18a6",
   "metadata": {},
   "outputs": [
    {
     "data": {
      "text/plain": [
       "clip_onset      7844.72\n",
       "clip_offset     8124.51\n",
       "convo_count           2\n",
       "avg_dB           -18.87\n",
       "peak_dB           -2.66\n",
       "duration         279.79\n",
       "segment_type        CTC\n",
       "seconds          8160.0\n",
       "child_id        001LTP1\n",
       "Name: 72, dtype: object"
      ]
     },
     "execution_count": 7,
     "metadata": {},
     "output_type": "execute_result"
    }
   ],
   "source": [
    "ctcstamps.loc[72]"
   ]
  },
  {
   "cell_type": "code",
   "execution_count": 41,
   "id": "e33b127d",
   "metadata": {},
   "outputs": [],
   "source": [
    "def find_longest_segment():\n",
    "    index_of_longest = ctcstamps['duration'].idxmax()\n",
    "    retrieved = ctcstamps.loc[index_of_longest]\n",
    "    print('The longest clip begins at: ', retrieved['clip_onset'])\n",
    "    print('The longest clip ends at: ', retrieved['clip_offset'])"
   ]
  },
  {
   "cell_type": "code",
   "execution_count": 42,
   "id": "6325fac7",
   "metadata": {},
   "outputs": [
    {
     "name": "stdout",
     "output_type": "stream",
     "text": [
      "The longest clip begins at:  7844.72\n",
      "The longest clip ends at:  8124.51\n"
     ]
    }
   ],
   "source": [
    "find_longest_segment()"
   ]
  },
  {
   "cell_type": "markdown",
   "id": "1ed725b0",
   "metadata": {},
   "source": [
    "##  Questions:\n",
    "Checking if there is any relation between convo_count and duration but longest convo_count is different record\n"
   ]
  },
  {
   "cell_type": "code",
   "execution_count": 43,
   "id": "e48b4c23",
   "metadata": {},
   "outputs": [
    {
     "data": {
      "text/plain": [
       "164"
      ]
     },
     "execution_count": 43,
     "metadata": {},
     "output_type": "execute_result"
    }
   ],
   "source": [
    "ctcstamps['convo_count'].idxmax()"
   ]
  },
  {
   "cell_type": "code",
   "execution_count": 44,
   "id": "cb5118b8",
   "metadata": {},
   "outputs": [],
   "source": [
    "def find_most_counts():\n",
    "    index_of_most = ctcstamps['convo_count'].idxmax()\n",
    "    retrieved = ctcstamps.loc[index_of_most]\n",
    "    print('The clip with most convo counts begins at: ', retrieved['clip_onset'])\n",
    "    print('The clip with most convo counts ends at: ', retrieved['clip_offset'])\n",
    "    return retrieved['clip_onset'], retrieved['clip_offset']"
   ]
  },
  {
   "cell_type": "code",
   "execution_count": 45,
   "id": "e6a0e8ef",
   "metadata": {},
   "outputs": [
    {
     "name": "stdout",
     "output_type": "stream",
     "text": [
      "The clip with most convo counts begins at:  19342.64\n",
      "The clip with most convo counts ends at:  19416.27\n"
     ]
    }
   ],
   "source": [
    "find_most_counts()"
   ]
  },
  {
   "cell_type": "markdown",
   "id": "fd1b1e26",
   "metadata": {},
   "source": [
    "Plan : Use scipy.io package to trim audio files based on timestamps extracted from functions above"
   ]
  },
  {
   "cell_type": "markdown",
   "id": "2f77e311",
   "metadata": {},
   "source": [
    "NOTES - different csv, visualization component : proportion of electonic speech, \n",
    "\n",
    "metrics from FAN and MAN = by duration, child-directed speech, word-counts, \n",
    "\n",
    "mine its file as well - initiation by whom"
   ]
  },
  {
   "cell_type": "code",
   "execution_count": 50,
   "id": "11296582",
   "metadata": {},
   "outputs": [],
   "source": [
    "# Ignore - FAILED\n",
    "\n",
    "#sampleRate, waveData = wavfile.read(\"/Users/arjun/Box/box-group-lena-studies/Soundscape/wavFiles/001LTP1.wav\")\n",
    "#wavfile.write('trial_trim_001LTP1.wav', sampleRate, waveData[7844:8124])"
   ]
  },
  {
   "cell_type": "markdown",
   "id": "31a96046",
   "metadata": {},
   "source": [
    "The below cell extracts the relevant clip from the full wav file where we specify the start and stop time offsets in seconds."
   ]
  },
  {
   "cell_type": "code",
   "execution_count": 10,
   "id": "ec2bcf74",
   "metadata": {},
   "outputs": [],
   "source": [
    "# the timestamp to split at (in seconds)\n",
    "split_at_timestamp = 7844\n",
    "\n",
    "# read the file and get the sample rate and data\n",
    "rate, data = wavfile.read(\"/Users/arjun/Box/box-group-lena-studies/Soundscape/wavFiles/001LTP1.wav\")\n",
    "\n",
    "# get the frame to split at\n",
    "split_at_frame = rate * split_at_timestamp\n",
    "stop_at_frame = rate * 8124\n",
    "\n",
    "# split\n",
    "left_data  = data[split_at_frame : stop_at_frame] \n",
    "\n",
    "# save the result\n",
    "wavfile.write('/Users/arjun/Box/box-group-lena-studies/Soundscape/wavFiles/boxtrial_trim_001LTP1.wav', rate, left_data)"
   ]
  },
  {
   "cell_type": "markdown",
   "id": "4da14c46",
   "metadata": {},
   "source": [
    "Wrapped into a function:"
   ]
  },
  {
   "cell_type": "code",
   "execution_count": 11,
   "id": "5fcbe343",
   "metadata": {},
   "outputs": [],
   "source": [
    "# Note to self: change the path argument to just child ID and append based on directory\n",
    "\n",
    "def extract_clip (start, ending, path):\n",
    "    rate, data = wavfile.read(\"/Users/arjun/Box/box-group-lena-studies/Soundscape/wavFiles/001LTP1.wav\")\n",
    "    split_at_timestamp = start\n",
    "    split_at_frame = rate * split_at_timestamp\n",
    "    stop_at_frame = rate * ending\n",
    "    left_data  = data[split_at_frame : stop_at_frame] \n",
    "    wavfile.write('/Users/arjun/Box/box-group-lena-studies/Soundscape/wavFiles/boxtrial_trim_001LTP1.wav', rate, left_data)\n",
    "    print('The extracted clip can now be found in the same directory.')"
   ]
  },
  {
   "cell_type": "code",
   "execution_count": null,
   "id": "a945d7c9",
   "metadata": {},
   "outputs": [],
   "source": [
    "def extract_clip_longestCTC (path):\n",
    "    '''\n",
    "    This function extracts and saves the clip with the longest CT measured by convo count, not duration.\n",
    "    '''\n",
    "    rate, data = wavfile.read(path)\n",
    "    start, ending = find_most_counts(path) #fix this to make dataframe more generalized -- either csv path as argument or make it data member of objeect -- design choice\n",
    "    split_at_timestamp = start\n",
    "    split_at_frame = rate * split_at_timestamp\n",
    "    stop_at_frame = rate * ending\n",
    "    left_data  = data[split_at_frame : stop_at_frame]\n",
    "    newpath = path[0:len(path)-4] + \"-longestCTC.wav\"\n",
    "    wavfile.write(newpath, rate, left_data)\n",
    "    print('The extracted clip can now be found in the same directory.')"
   ]
  },
  {
   "cell_type": "code",
   "execution_count": null,
   "id": "e541092c",
   "metadata": {},
   "outputs": [],
   "source": [
    "# Child ID input - interactive\n",
    "# one extra folder for all outputs"
   ]
  },
  {
   "cell_type": "code",
   "execution_count": null,
   "id": "7f4b2e28",
   "metadata": {},
   "outputs": [],
   "source": []
  }
 ],
 "metadata": {
  "kernelspec": {
   "display_name": "Python 3 (ipykernel)",
   "language": "python",
   "name": "python3"
  },
  "language_info": {
   "codemirror_mode": {
    "name": "ipython",
    "version": 3
   },
   "file_extension": ".py",
   "mimetype": "text/x-python",
   "name": "python",
   "nbconvert_exporter": "python",
   "pygments_lexer": "ipython3",
   "version": "3.9.7"
  }
 },
 "nbformat": 4,
 "nbformat_minor": 5
}
